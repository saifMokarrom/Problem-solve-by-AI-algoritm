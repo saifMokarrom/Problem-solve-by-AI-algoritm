{
  "nbformat": 4,
  "nbformat_minor": 0,
  "metadata": {
    "colab": {
      "provenance": []
    },
    "kernelspec": {
      "name": "python3",
      "display_name": "Python 3"
    },
    "language_info": {
      "name": "python"
    }
  },
  "cells": [
    {
      "cell_type": "markdown",
      "source": [
        "Question: We all know that currently, we are going through a pandemic period. Several measures are now taken so that we can overcome this period and resume our daily activities like we did earlier. Educational institutions are trying to resume all activities and they are doing their best to do it successfully. \n",
        "We know that this disease is contagious and anyone affected comes in contact with another person, then he or she needs to stay in quarantine. Suppose an educational institution “X” has hired you to design a system known as an “Infected tracker”. An infected tracker tries to figure out the region/number of surrounding people who can be affected by a single person. Then it prints the maximum region infected. Here you can consider Y being infected and N is not infected. \n",
        "Your task is to find the maximum region with Y i.e. max people infected in a region so that strict measures can be taken in that region using DFS. Keep in mind that two people are said to be infected if two elements in the matrix are Y horizontally, vertically or diagonally. \n",
        "\n",
        "Sample Input 1  \n",
        "N N N Y Y N N  \n",
        "N Y N N Y Y N  \n",
        "Y Y N Y N N Y  \n",
        "N N N N N Y N  \n",
        "Y Y N N N N N  \n",
        "N N N Y N N N  \n",
        "\n",
        "Sample Output  \n",
        "7  \n",
        "**Explanation**\n",
        "Here you can see a region has 7 infected people so it is the maximum infected region. \n",
        "\n",
        "Sample Input 2:  \n",
        "Y Y N N N  \n",
        "N Y Y N N  \n",
        "N N Y N N  \n",
        "Y N N N N \n",
        "\n",
        "Sample Output  \n",
        "5  \n",
        "Explanation \n",
        "Here you can see the first region has 5 infected people so it is the maximum infected region. \n"
      ],
      "metadata": {
        "id": "cngLHIzZi3QI"
      }
    },
    {
      "cell_type": "code",
      "execution_count": 1,
      "metadata": {
        "colab": {
          "base_uri": "https://localhost:8080/"
        },
        "id": "ZHICJnKviX7E",
        "outputId": "2af30226-be7e-4794-b359-76e3979fe429"
      },
      "outputs": [
        {
          "output_type": "stream",
          "name": "stdout",
          "text": [
            "7\n"
          ]
        }
      ],
      "source": [
        "from collections import deque\n",
        "#------------------------------------------------1----------------------------------------------------------------------\n",
        "file = open('input1.txt', 'r')\n",
        "\n",
        "li = []\n",
        "#visited = [[0]*len(li[0])]*len(li) #No need cause we can change then value of li to 0 so that we can restrict the re visit.\n",
        "#print(visited)\n",
        "for line in file:\n",
        "    li.append(line.split())\n",
        "\n",
        "\n",
        "def regionInfected(mat, r, c):\n",
        "  if (r<0 or r>len(mat)-1 or c<0 or c>len(mat[0])-1 or mat[r][c]=='N'):\n",
        "    return 0\n",
        "\n",
        "  subTotal = 1\n",
        "  mat[r][c] = 'N'\n",
        "  for i in range(r-1,r+2):\n",
        "    for j in range(c-1,c+2):\n",
        "      if i!=r or j!=c:\n",
        "        subTotal += regionInfected(mat,i,j)\n",
        "  return subTotal\n",
        "\n",
        "\n",
        "\n",
        "ans=0;\n",
        "for i,row in enumerate(li):\n",
        "  for j,ele in enumerate(row):\n",
        "    if ele == 'Y':\n",
        "      ans= max(ans,regionInfected(li,i,j))\n",
        "print(ans)\n"
      ]
    }
  ]
}