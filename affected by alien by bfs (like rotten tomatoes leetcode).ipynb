{
  "nbformat": 4,
  "nbformat_minor": 0,
  "metadata": {
    "colab": {
      "provenance": []
    },
    "kernelspec": {
      "name": "python3",
      "display_name": "Python 3"
    },
    "language_info": {
      "name": "python"
    }
  },
  "cells": [
    {
      "cell_type": "markdown",
      "source": [
        "Question: There is an Alien(Xenomorph) Apocalypse in XCITY and every minute Aliens are attacking human beings around them. \n",
        "Imagine XCITY as a grid where \"A\" represents the position of an Alien, \"H\" represents the position of a human being and \"T\" represents heat traps set up by humans which the Aliens cannot cross. The regions of the Aliens will not overlap, i.e. two or more Aliens will never have a common human to prey on. \n",
        "An Alien can attack human beings on it's north,south,east and west simultaneously using its deadly advanced physical attributes. A human being becomes a host after an attack and a new Alien spawns in that position. \n",
        "Your task is to find out the minimum number of minutes it would take for the Aliens to attack all the humans around them using BFS. Also, print \"No one survived\" if no human beings survive the Apocalypse or \"number_of_human_beings survived\" otherwise. <br>\n",
        "Sample Input 1 <br>\n",
        "5 <br>\n",
        "4  <br>\n",
        "A H T H  <br>\n",
        "H H T A  <br>\n",
        "T T H H  <br>\n",
        "A H T H  <br> \n",
        "H T H H  <br>\n",
        "<br>\n",
        "Sample Output 1:  \n",
        "Time: 4 minutes  \n",
        "No one survived <br> \n",
        "Explanation 1: There are 3 regions here marked with Red, Green and Blue borders. The attacking Aliens have Yellow background and the humans being attacked have Red background. \n",
        "At Time=1, three Aliens in 3 different regions attack the humans around them simultaneously (north, south, east, west). New Aliens spawn in place of the attacked humans. \n",
        "At Time=2, two Aliens in Red and Blue regions attack the humans around them simultaneously and new aliens spawn in place of the attacked humans. The Green region has no more humans left.\n",
        "At Time=3, only one Alien in the Blue region attacks the human to the south of it and a new alien spawns in place of the attacked human. The Red region has no more humans left. \n",
        "At Time=4, only one Alien in the Blue region attacks the last human to the west of it and so in the final grid, no humans are left. \n",
        "\n",
        "<br>\n",
        "\n",
        "Sample Input 2:<br> \n",
        "3<br> \n",
        "3<br> \n",
        "A H H <br>\n",
        "T H H<br> \n",
        "H T H<br>\n",
        "Sample Output 2:<br> \n",
        "Time: 4 minutes <br>\n",
        "1 survived <br>\n",
        "\n",
        "Explanation 2: In the 3x3 grid of XCITY, the Alien at (0,0) will attack the human at (0,1) at 1 minute and a new Alien will spawn at (0,1). Then this new Alien will attack the humans at (0,2) and (1,1) simultaneously and two new Aliens will spawn there. Either of these two will attack the human at (1,2) in the 3rd minute. And the newly spawned Alien will lastly attack the human at (2,2) in the 4th minute. However one human being at (2,0) will survive since no Aliens can get to him/her. \n",
        "\n"
      ],
      "metadata": {
        "id": "cngLHIzZi3QI"
      }
    },
    {
      "cell_type": "code",
      "execution_count": 4,
      "metadata": {
        "colab": {
          "base_uri": "https://localhost:8080/"
        },
        "id": "ZHICJnKviX7E",
        "outputId": "c318933a-1841-44f6-abb0-4d27ee80c079"
      },
      "outputs": [
        {
          "output_type": "stream",
          "name": "stdout",
          "text": [
            "Time: 4 minutes\n",
            "1 survived\n"
          ]
        }
      ],
      "source": [
        "def alienAttackHuman(mat2):\n",
        "\n",
        "  queue = deque()\n",
        "  count=0\n",
        "  time=0\n",
        "\n",
        "  for i in range(len(mat2)):\n",
        "    for j in range(len(mat2[0])):\n",
        "      if mat2[i][j] == 'A':\n",
        "        tmp = [i,j]\n",
        "        queue.append(tmp)\n",
        "\n",
        "\n",
        "  dir = [[1, 0], [-1, 0], [0, 1], [0, -1]]\n",
        "  while len(queue)!=0:\n",
        "    x=len(queue)\n",
        "    count+=x\n",
        "    for i in range(x):\n",
        "      temp = queue.popleft()\n",
        "      corx,cory = temp[0],temp[1]\n",
        "      for x2,y2 in dir:\n",
        "        r2,c2= x2+corx,y2+cory\n",
        "        if (r2 < 0 or c2 < 0 or r2 >= len(mat2) or c2 >= len(mat2[0]) or mat2[r2][c2] != 'H'):\n",
        "          continue\n",
        "        mat2[r2][c2] = 'A'\n",
        "        queue.append([r2,c2])\n",
        "    if len(queue) != 0:\n",
        "      time+=1\n",
        "\n",
        "  return [count, time]\n",
        "\n",
        "\n",
        "\n",
        "file = open('input1.txt', 'r')\n",
        "li2 = []\n",
        "for line2 in file:\n",
        "    li2.append(line2.split())\n",
        "\n",
        "row = li2[0]\n",
        "col = li2[1]\n",
        "li2 = li2[2:]\n",
        "\n",
        "notT=0\n",
        "for i in range(len(li2)):\n",
        "  for j in range(len(li2[0])):\n",
        "    if li2[i][j] != 'T':\n",
        "      notT += 1\n",
        "\n",
        "ans = alienAttackHuman(li2)\n",
        "print(\"Time: \"+str(ans[1])+\" minutes\")\n",
        "if notT - ans[0] == 0:\n",
        "  print(\"No one survived\")\n",
        "else:\n",
        "  print(str(notT - ans[0])+\" survived\")\n"
      ]
    }
  ]
}